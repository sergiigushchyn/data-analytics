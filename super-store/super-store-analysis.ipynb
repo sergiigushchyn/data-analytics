{
 "cells": [
  {
   "metadata": {
    "ExecuteTime": {
     "end_time": "2025-08-02T13:02:27.249105Z",
     "start_time": "2025-08-02T13:02:25.622340Z"
    }
   },
   "cell_type": "code",
   "source": [
    "import pandas as pd\n",
    "from dotenv import load_dotenv\n",
    "import os"
   ],
   "id": "55fad9963a5fc978",
   "outputs": [],
   "execution_count": 2
  },
  {
   "metadata": {
    "ExecuteTime": {
     "end_time": "2025-08-02T13:02:29.629988Z",
     "start_time": "2025-08-02T13:02:29.611815Z"
    }
   },
   "cell_type": "code",
   "source": [
    "load_dotenv()  # loads .env file\n",
    "file_path = os.getenv('FILE_PATH')"
   ],
   "id": "d7b4c96f9bb5ab29",
   "outputs": [],
   "execution_count": 3
  },
  {
   "metadata": {
    "ExecuteTime": {
     "end_time": "2025-08-02T13:05:33.133389Z",
     "start_time": "2025-08-02T13:05:31.732749Z"
    }
   },
   "cell_type": "code",
   "source": "df = pd.read_excel(file_path)",
   "id": "c9a060d34a2c4ea4",
   "outputs": [],
   "execution_count": 6
  },
  {
   "metadata": {
    "ExecuteTime": {
     "end_time": "2025-08-02T13:08:33.053383Z",
     "start_time": "2025-08-02T13:08:33.014201Z"
    }
   },
   "cell_type": "code",
   "source": "df.columns",
   "id": "f641edf8d9abcee8",
   "outputs": [
    {
     "data": {
      "text/plain": [
       "Index(['Row ID', 'Order Priority', 'Discount', 'Unit Price', 'Shipping Cost',\n",
       "       'Customer ID', 'Customer Name', 'Ship Mode', 'Customer Segment',\n",
       "       'Product Category', 'Product Sub-Category', 'Product Container',\n",
       "       'Product Name', 'Product Base Margin', 'Country', 'Region',\n",
       "       'State or Province', 'City', 'Postal Code', 'Order Date', 'Ship Date',\n",
       "       'Profit', 'Quantity ordered new', 'Sales', 'Order ID'],\n",
       "      dtype='object')"
      ]
     },
     "execution_count": 7,
     "metadata": {},
     "output_type": "execute_result"
    }
   ],
   "execution_count": 7
  },
  {
   "metadata": {
    "ExecuteTime": {
     "end_time": "2025-08-04T12:30:17.054649Z",
     "start_time": "2025-08-04T12:30:17.033967Z"
    }
   },
   "cell_type": "code",
   "source": "df = df[df['Profit'] > 0]",
   "id": "8fdd6f1781625126",
   "outputs": [],
   "execution_count": 29
  },
  {
   "metadata": {
    "ExecuteTime": {
     "end_time": "2025-08-04T12:41:11.505930Z",
     "start_time": "2025-08-04T12:41:11.459422Z"
    }
   },
   "cell_type": "code",
   "source": [
    "product_total = (\n",
    "    df.groupby('Product Name', as_index=False)['Profit']\n",
    "      .sum()\n",
    "      .nlargest(10, 'Profit')\n",
    "      .rename(columns={'Profit': 'TotalProfit'})\n",
    ")\n",
    "\n",
    "top_products = product_total['Product Name']\n",
    "\n",
    "filtered = df[df['Product Name'].isin(top_products)]\n",
    "\n",
    "# Group by product + state\n",
    "grouped = (\n",
    "    filtered.groupby(['Product Name', 'State or Province'], as_index=False)['Profit']\n",
    "            .sum()\n",
    "            .rename(columns={'Profit': 'StateProfit'})\n",
    ")\n",
    "\n",
    "# Get top state per product (using idxmax)\n",
    "idx = grouped.groupby('Product Name')['StateProfit'].idxmax()\n",
    "top_state = grouped.loc[idx].reset_index(drop=True)\n",
    "\n",
    "# Merge with total product profit\n",
    "final = top_state.merge(product_total, on='Product Name')\n",
    "\n",
    "# Calculate percentage\n",
    "final['Percentage'] = (final['StateProfit'] / final['TotalProfit'] * 100).round(2)\n",
    "\n",
    "# Reorder columns\n",
    "final = final[['Product Name', 'TotalProfit', 'State or Province', 'StateProfit', 'Percentage']]\n",
    "\n",
    "print(final.to_string())\n",
    "\n",
    "\n"
   ],
   "id": "821e6630c2b834ea",
   "outputs": [
    {
     "name": "stdout",
     "output_type": "stream",
     "text": [
      "                                                                  Product Name  TotalProfit     State or Province  StateProfit  Percentage\n",
      "0                                           Canon PC1060 Personal Laser Copier   9607.76838                 Maine    7024.2069       73.11\n",
      "1  Fellowes PB500 Electric Punch Plastic Comb Binding Machine with Manual Bind  23865.90420  District of Columbia    9228.2256       38.67\n",
      "2                                   GBC DocuBind TL300 Electric Binding System  11004.45120                  Ohio    7402.3200       67.27\n",
      "3                               Global Troy™ Executive Leather Low-Back Tilter  18628.14530            California    9289.4953       49.87\n",
      "4                                         Hewlett Packard LaserJet 3310 Copier   8798.18310              New York    8798.1831      100.00\n",
      "5          Hewlett-Packard Business Color Inkjet 3000 [N, DTN] Series Printers   7576.11000                Oregon    7576.1100      100.00\n",
      "6                                         Lexmark 4227 Plus Dot Matrix Printer  10101.66000                  Utah    6028.4100       59.68\n",
      "7                                      Okidata ML395C Color Dot Matrix Printer   7709.31000            Washington    3042.1800       39.46\n",
      "8                Riverside Palais Royal Lawyers Bookcase, Royale Cherry Finish   9094.32260             Minnesota    4861.0638       53.45\n",
      "9                       Smead Adjustable Mobile File Trolley with Lockable Top   9946.22590                  Ohio    6610.2000       66.46\n"
     ]
    }
   ],
   "execution_count": 34
  }
 ],
 "metadata": {
  "kernelspec": {
   "display_name": "Python 3",
   "language": "python",
   "name": "python3"
  },
  "language_info": {
   "codemirror_mode": {
    "name": "ipython",
    "version": 2
   },
   "file_extension": ".py",
   "mimetype": "text/x-python",
   "name": "python",
   "nbconvert_exporter": "python",
   "pygments_lexer": "ipython2",
   "version": "2.7.6"
  }
 },
 "nbformat": 4,
 "nbformat_minor": 5
}
